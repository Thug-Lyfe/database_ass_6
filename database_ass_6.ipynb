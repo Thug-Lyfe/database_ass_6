{
 "cells": [
  {
   "cell_type": "code",
   "execution_count": 3,
   "metadata": {},
   "outputs": [
    {
     "data": {
      "text/plain": [
       "'Connected: appdev@appdev'"
      ]
     },
     "execution_count": 3,
     "metadata": {},
     "output_type": "execute_result"
    }
   ],
   "source": [
    "%load_ext sql\n",
    "%sql postgresql://appdev@data:5432/appdev"
   ]
  },
  {
   "cell_type": "code",
   "execution_count": 4,
   "metadata": {},
   "outputs": [
    {
     "name": "stdout",
     "output_type": "stream",
     "text": [
      "3 rows affected.\n"
     ]
    },
    {
     "data": {
      "text/html": [
       "<table>\n",
       "    <tr>\n",
       "        <th>schemaname</th>\n",
       "        <th>tablename</th>\n",
       "        <th>indexname</th>\n",
       "        <th>tablespace</th>\n",
       "        <th>indexdef</th>\n",
       "    </tr>\n",
       "    <tr>\n",
       "        <td>f1db</td>\n",
       "        <td>circuits</td>\n",
       "        <td>idx_17102_url</td>\n",
       "        <td>None</td>\n",
       "        <td>CREATE UNIQUE INDEX idx_17102_url ON circuits USING btree (url)</td>\n",
       "    </tr>\n",
       "    <tr>\n",
       "        <td>f1db</td>\n",
       "        <td>circuits</td>\n",
       "        <td>circuits_position_idx</td>\n",
       "        <td>None</td>\n",
       "        <td>CREATE INDEX circuits_position_idx ON circuits USING gist (&quot;position&quot;)</td>\n",
       "    </tr>\n",
       "    <tr>\n",
       "        <td>f1db</td>\n",
       "        <td>circuits</td>\n",
       "        <td>idx_17102_primary</td>\n",
       "        <td>None</td>\n",
       "        <td>CREATE UNIQUE INDEX idx_17102_primary ON circuits USING btree (circuitid)</td>\n",
       "    </tr>\n",
       "</table>"
      ],
      "text/plain": [
       "[('f1db', 'circuits', 'idx_17102_url', None, 'CREATE UNIQUE INDEX idx_17102_url ON circuits USING btree (url)'),\n",
       " ('f1db', 'circuits', 'circuits_position_idx', None, 'CREATE INDEX circuits_position_idx ON circuits USING gist (\"position\")'),\n",
       " ('f1db', 'circuits', 'idx_17102_primary', None, 'CREATE UNIQUE INDEX idx_17102_primary ON circuits USING btree (circuitid)')]"
      ]
     },
     "execution_count": 4,
     "metadata": {},
     "output_type": "execute_result"
    }
   ],
   "source": [
    "%sql SELECT * FROM pg_indexes where tablename = 'circuits' "
   ]
  }
 ],
 "metadata": {
  "kernelspec": {
   "display_name": "Python 3",
   "language": "python",
   "name": "python3"
  },
  "language_info": {
   "codemirror_mode": {
    "name": "ipython",
    "version": 3
   },
   "file_extension": ".py",
   "mimetype": "text/x-python",
   "name": "python",
   "nbconvert_exporter": "python",
   "pygments_lexer": "ipython3",
   "version": "3.6.3"
  }
 },
 "nbformat": 4,
 "nbformat_minor": 2
}
